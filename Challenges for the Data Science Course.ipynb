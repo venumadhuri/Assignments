{
 "cells": [
  {
   "cell_type": "markdown",
   "metadata": {},
   "source": [
    "# Welcome to The Shortcut X Mozilla Data Science Program! \n",
    "\n",
    "This training program aimed to educate **30 participants** in Data Science fundamentals.  The content will be given by experienced Data Scientists working in __Mozilla__, __Silo.ai__, __Kodit.io__ & __Selko.io__. \n",
    "\n",
    "The program runs for **11 weeks** and is a *project-based learning*, split in different models, which contains *2 hours sessions each week*, instructor-led + Lab sessions with coaches. \n",
    "\n",
    "You will get a chance to work on the real life project and by the end of the program we aim for the participants to be qualified for the work opportunities as a Junior Data Scientists.\n",
    "\n",
    "Please complete the following challenges by **22nd September 2019 midnight** the latest.\n",
    "\n",
    "**A piece of advice:** If you feel that you cannot answer all of the challenges by the deadline, DO NOT PANIC!, try to do as much as you can and submit whatever you have, then proudly patiently cross your fingers ^\\_^. The challanges are only parts of the criterias.\n",
    "\n",
    "GOOD LUCK !!!\n",
    "**Note:**It's a big plus if you can work with Jupyter Notebook, however, it's also OK if you are not familiar with it. In that case, you can write your answer in some kind of Word Document, and a separate python script for the python code challenge. Then zip them together when you submit"
   ]
  },
  {
   "cell_type": "markdown",
   "metadata": {},
   "source": [
    "## 1. What is Generalized Linear Model?"
   ]
  },
  {
   "cell_type": "code",
   "execution_count": 1,
   "metadata": {},
   "outputs": [],
   "source": [
    "# Your answer goes here. Please choose Markdown format for your answer."
   ]
  },
  {
   "cell_type": "markdown",
   "metadata": {},
   "source": [
    "## 2. Name a few statistical models you know?"
   ]
  },
  {
   "cell_type": "code",
   "execution_count": null,
   "metadata": {},
   "outputs": [],
   "source": [
    "# Your answer goes here. Please choose Markdown format for your answer."
   ]
  },
  {
   "cell_type": "markdown",
   "metadata": {},
   "source": [
    "## 3. What is linear regression? Advantages & disadvantages?"
   ]
  },
  {
   "cell_type": "code",
   "execution_count": null,
   "metadata": {},
   "outputs": [],
   "source": [
    "# Your answer goes here. Please choose Markdown format for your answer."
   ]
  },
  {
   "cell_type": "markdown",
   "metadata": {},
   "source": [
    "## 4. What is the formula of simple linear regression ?"
   ]
  },
  {
   "cell_type": "code",
   "execution_count": null,
   "metadata": {},
   "outputs": [],
   "source": [
    "# Your answer goes here. Please choose Markdown format for your answer."
   ]
  },
  {
   "cell_type": "markdown",
   "metadata": {},
   "source": [
    "## 5. What is logistic regression? Advantages & disadvantages?"
   ]
  },
  {
   "cell_type": "code",
   "execution_count": null,
   "metadata": {},
   "outputs": [],
   "source": [
    "# Your answer goes here. Please choose Markdown format for your answer."
   ]
  },
  {
   "cell_type": "markdown",
   "metadata": {},
   "source": [
    "## 6. Why is logistic regression very popular?"
   ]
  },
  {
   "cell_type": "code",
   "execution_count": null,
   "metadata": {},
   "outputs": [],
   "source": [
    "# Your answer goes here. Please choose Markdown format for your answer."
   ]
  },
  {
   "cell_type": "markdown",
   "metadata": {},
   "source": [
    "## Python code challenge"
   ]
  },
  {
   "cell_type": "markdown",
   "metadata": {},
   "source": [
    "Have the function `question_marks(string)` take the `string` string parameter, which will contain single digit numbers, letters, and question marks, and check if there are exactly **3 question marks** between every **pair of two numbers** that add up to **10**. \n",
    "\n",
    "If so, then your program should return the string `\"true\"`, otherwise it should return the string `\"false\"`. \n",
    "\n",
    "If there aren't any two numbers that add up to 10 in the string, then your program should return `\"false\"` as well.\n",
    "\n",
    "*For example:* \n",
    "\n",
    "If str is `\"arrb6???4xxbl5???eee5\"` then your program should return `\"true\"` because there are exactly 3 question marks between 6 and 4, and 3 question marks between 5 and 5 at the end of the string."
   ]
  },
  {
   "cell_type": "markdown",
   "metadata": {},
   "source": [
    "*More example:*\n",
    "\n",
    "```python\n",
    ">>> question_marks(\"aa6?9\")\n",
    ">>> \"false\"\n",
    ">>> question_marks(\"acc?7??sss?3rr1??????5\")\n",
    ">>> \"true\"\n",
    ">>> question_marks(\"4???6fg6\")\n",
    ">>> \"true\"\n",
    "```"
   ]
  },
  {
   "cell_type": "code",
   "execution_count": 2,
   "metadata": {},
   "outputs": [],
   "source": [
    "def question_marks(string):\n",
    "    # Your code goes here\n",
    "    pass"
   ]
  },
  {
   "cell_type": "markdown",
   "metadata": {},
   "source": [
    "**REMEMBER:** After you've finished the challenges, please zip your CV and your answer notebook (.ipynb) in a zip file and submit it [here](https://forms.gle/scomDcSWnGy8asaLA)"
   ]
  }
 ],
 "metadata": {
  "kernelspec": {
   "display_name": "Python 3",
   "language": "python",
   "name": "python3"
  },
  "language_info": {
   "codemirror_mode": {
    "name": "ipython",
    "version": 3
   },
   "file_extension": ".py",
   "mimetype": "text/x-python",
   "name": "python",
   "nbconvert_exporter": "python",
   "pygments_lexer": "ipython3",
   "version": "3.7.3"
  }
 },
 "nbformat": 4,
 "nbformat_minor": 2
}
